{
 "cells": [
  {
   "cell_type": "code",
   "execution_count": 1,
   "id": "58ee8cf7-8d10-40b6-af94-2b2d87599f15",
   "metadata": {},
   "outputs": [],
   "source": [
    "import pandas as pd\n",
    "import numpy as np\n",
    "import matplotlib as mpl\n",
    "import matplotlib.pyplot as plt\n",
    "import matplotlib.cm as cm\n",
    "import matplotlib.patches as patches\n",
    "import seaborn as sns\n",
    "import os\n",
    "import glob\n",
    "import csv\n",
    "from natsort import natsorted\n",
    "from itertools import chain\n",
    "import scipy.stats as stats\n",
    "from scipy.stats import brunnermunzel\n",
    "from tqdm import tqdm\n",
    "\n",
    "#check directory\n",
    "os.getcwd()\n",
    "\n",
    "#fonts\n",
    "mpl.rcParams[\"pdf.fonttype\"] = 42\n",
    "mpl.rcParams[\"ps.fonttype\"] = 42\n",
    "mpl.rcParams[\"font.sans-serif\"] = \"Arial\"\n",
    "mpl.rcParams[\"font.family\"] = \"sans-serif\""
   ]
  },
  {
   "cell_type": "code",
   "execution_count": 2,
   "id": "77ae635e-07b0-414f-8b23-a8ccfdbe71e8",
   "metadata": {},
   "outputs": [],
   "source": [
    " def convert_frame_data(df):\n",
    "    list_from_df = df.to_numpy()\n",
    "    # list_from_df = np.array(list_from_df)\n",
    "    # print(list_from_df[-1][11])\n",
    "    log_label = \"no\"\n",
    "    def_orientation_list = []\n",
    "    # print(list_from_df[-1])\n",
    "    if list_from_df[-1][12] == \"POINT\":\n",
    "        last_frame = list_from_df[-1][15]\n",
    "    elif list_from_df[-2][12] == \"POINT\":\n",
    "        last_frame = list_from_df[-2][15]\n",
    "    else:\n",
    "        print(\"error\")\n",
    "\n",
    "    # print(list_from_df[:, 14])\n",
    "    # print(int(last_frame))\n",
    "\n",
    "    num_list = list_from_df[:, 15]\n",
    "    num_list = np.array([int(j) for j in num_list])\n",
    "\n",
    "    for i in range(int(last_frame)):\n",
    "        if int(i) in num_list:\n",
    "            # print(num_list)\n",
    "            index_num = np.where(num_list==int(i))\n",
    "            # print(index_num)\n",
    "            line_list = list_from_df[index_num].flatten()\n",
    "            # print(line_list)\n",
    "            if line_list[12]==\"START\":\n",
    "                log_label = \"orientation\"\n",
    "                res = [i, log_label]\n",
    "                def_orientation_list.append(res)\n",
    "                continue\n",
    "\n",
    "            if line_list[12]==\"STOP\":\n",
    "                res = [i, log_label]\n",
    "                def_orientation_list.append(res)\n",
    "                log_label = \"no\"\n",
    "                continue\n",
    "\n",
    "            if line_list[12]==\"finish\":\n",
    "                break\n",
    "            else:\n",
    "                break\n",
    "\n",
    "        res = [i, log_label]\n",
    "        def_orientation_list.append(res)\n",
    "    def_orientation_list = np.array(def_orientation_list)\n",
    "    return def_orientation_list, last_frame"
   ]
  },
  {
   "cell_type": "code",
   "execution_count": 3,
   "id": "2c2a1b83-b2e6-4921-b595-63f0c37c5b20",
   "metadata": {},
   "outputs": [],
   "source": [
    "def extract_orientation_frame(df):\n",
    "    df_wing = df[df[\"class_name\"] == \"orientation\"]\n",
    "    df_wing = df_wing.drop_duplicates()\n",
    "    df_wing = df_wing.filter(items=['frame', 'class_name'])\n",
    "    df_ori_list = df_wing.values.tolist()\n",
    "    df_ori_list = np.array(df_ori_list)\n",
    "    return df_ori_list"
   ]
  },
  {
   "cell_type": "markdown",
   "id": "f9e00c85-2dbe-40c5-bb25-94551073adb7",
   "metadata": {},
   "source": [
    "# Accuracy Calculation"
   ]
  },
  {
   "cell_type": "code",
   "execution_count": 4,
   "id": "b1b9c03b-c0a5-4a54-8e48-9573b5680a1d",
   "metadata": {},
   "outputs": [],
   "source": [
    "def cal_accuracy(def_orientation_list, df_ori_list):\n",
    "    accuracy_list = []\n",
    "    manual_num_list = def_orientation_list[:, 0]\n",
    "\n",
    "    for k in range(def_orientation_list.shape[0]):\n",
    "        manual_line_list = def_orientation_list[k]\n",
    "        # print(manual_line_list[1])\n",
    "        if manual_line_list[1]==\"orientation\":\n",
    "            if manual_line_list[0] in df_ori_list[:, 0]:\n",
    "                accuracy_list += [[k, True]]\n",
    "            else:\n",
    "                accuracy_list += [[k, False]]\n",
    "\n",
    "        elif manual_line_list[1]==\"no\":\n",
    "            if manual_line_list[0] not in df_ori_list[:, 0]:\n",
    "                accuracy_list += [[k, True]]\n",
    "            else:\n",
    "                accuracy_list += [[k, False]]\n",
    "\n",
    "        else:\n",
    "            print(\"error\")\n",
    "\n",
    "    # print(len(accuracy_list), len(def_orientation_list)) \n",
    "    accuracy_df = pd.DataFrame(accuracy_list, columns=['frame', 'detection'])\n",
    "    accuracy_true = len(accuracy_df[accuracy_df[\"detection\"]==True])\n",
    "    accuracy_all = len(accuracy_df)\n",
    "\n",
    "    accuracy = accuracy_true/accuracy_all\n",
    "    \n",
    "    accuracy_df.to_csv('../outputs/accuracy_df_compared_def_yoru_data_orientation.csv')\n",
    "    return accuracy, accuracy_true, accuracy_all"
   ]
  },
  {
   "cell_type": "markdown",
   "id": "21f53c73-a314-4903-b780-75ddd33ff8f1",
   "metadata": {},
   "source": [
    "# Precision Calculation"
   ]
  },
  {
   "cell_type": "code",
   "execution_count": 5,
   "id": "e76f34fe-470d-440f-b4ce-a68aead132f6",
   "metadata": {},
   "outputs": [],
   "source": [
    "def cal_precision(def_orientation_list, df_ori_list):\n",
    "    precision_list = []\n",
    "    manual_num_list = def_orientation_list[:, 0]\n",
    "\n",
    "    # print(df_ori_list.shape[0])\n",
    "\n",
    "    for j in range(df_ori_list.shape[0]):\n",
    "        number = df_ori_list[j, 0]\n",
    "        if number in manual_num_list:\n",
    "            if def_orientation_list[int(number), 1] == \"orientation\":\n",
    "                precision_list += [[int(number), True]]\n",
    "            else:\n",
    "                precision_list += [[int(number), False]]\n",
    "        else:\n",
    "            precision_list += [[int(number), False]]\n",
    "\n",
    "    # print(len(precision_list), len(df_ori_list))\n",
    "\n",
    "    precision_df = pd.DataFrame(precision_list, columns=['frame', 'detection'])\n",
    "    precision_true = len(precision_df[precision_df[\"detection\"]==True])\n",
    "    precision_all = len(precision_df)\n",
    "\n",
    "    precision =  precision_true/precision_all\n",
    "    return precision,  precision_true, precision_all"
   ]
  },
  {
   "cell_type": "markdown",
   "id": "669f68ef-75d6-42b2-965f-467bbec802e6",
   "metadata": {},
   "source": [
    "# Recall Calculation"
   ]
  },
  {
   "cell_type": "code",
   "execution_count": 6,
   "id": "3be9c13d-8dab-4516-9db4-028111e9a17e",
   "metadata": {},
   "outputs": [],
   "source": [
    "def cal_recall(def_orientation_list, df_ori_list):\n",
    "    recall_list = []\n",
    "    manual_num_list = def_orientation_list[:, 0]\n",
    "\n",
    "\n",
    "    for k in range(def_orientation_list.shape[0]):\n",
    "        manual_line_list = def_orientation_list[k]\n",
    "        if manual_line_list[1]==\"orientation\":\n",
    "            if manual_line_list[0] in df_ori_list[:, 0]:\n",
    "                recall_list += [[k, True]]\n",
    "            else:\n",
    "                recall_list += [[k, False]]\n",
    "        elif manual_line_list[1]==\"no\":\n",
    "            pass\n",
    "        else:\n",
    "            print(\"error\")\n",
    "            # pass\n",
    "\n",
    "    # print(len(recall_list), len(def_orientation_list)) \n",
    "    recall_df = pd.DataFrame(recall_list, columns=['frame', 'detection'])\n",
    "    recall_true = len(recall_df[recall_df[\"detection\"]==True])\n",
    "    recall_false = len(recall_df[recall_df[\"detection\"]==False])\n",
    "    recall_all = len(recall_df)\n",
    "    try: \n",
    "        recall = recall_true/recall_all\n",
    "    except ZeroDivisionError:\n",
    "        recall = 0\n",
    "    return recall, recall_true, recall_all"
   ]
  },
  {
   "cell_type": "markdown",
   "id": "7926cfd2-4cf1-41b1-871e-f6a9d974df3d",
   "metadata": {},
   "source": [
    "# Calculate F1 score"
   ]
  },
  {
   "cell_type": "raw",
   "id": "168d1f3c-1985-40c1-af63-627558d2ad3e",
   "metadata": {},
   "source": [
    "def cal_f1_score(precision_true, precision_all, recall_true, recall_all):\n",
    "    value1 = precision_true + recall_true\n",
    "    value2 = precision_all + recall_all\n",
    "    # print(value1, value2)\n",
    "    F1 = value1 /value2\n",
    "    return F1\n"
   ]
  },
  {
   "cell_type": "code",
   "execution_count": 7,
   "id": "e24e5c9f-a54e-494e-9cbc-9ab67ac3778c",
   "metadata": {},
   "outputs": [],
   "source": [
    "def cal_f1_score(precision, recall):\n",
    "    try:\n",
    "        F1 = (2*precision*recall) /(precision + recall)\n",
    "    except:\n",
    "        F1 = 0\n",
    "    return F1\n"
   ]
  },
  {
   "cell_type": "code",
   "execution_count": 8,
   "id": "da58950d-387e-455a-aa65-0201644b4d83",
   "metadata": {},
   "outputs": [],
   "source": [
    "df_file_list = pd.read_csv('../data/file_list.csv')\n",
    "file_list = df_file_list.values.tolist()\n",
    "file_list = np.array(file_list)"
   ]
  },
  {
   "cell_type": "code",
   "execution_count": 9,
   "id": "48266630-e659-446a-8aad-51b14b5d4e2a",
   "metadata": {},
   "outputs": [
    {
     "data": {
      "text/plain": [
       "array([['200529_3_on.csv', '20529_3_on.csv',\n",
       "        'processed_200529_3_onleft2.csv',\n",
       "        'processed_200529_3_onright2.csv', 'movie2'],\n",
       "       ['210118_1_on.csv', '210118_1_on.csv',\n",
       "        'processed_210118_1_onleft.csv',\n",
       "        'processed_210118_1_onright.csv', 'movie4']], dtype='<U31')"
      ]
     },
     "execution_count": 9,
     "metadata": {},
     "output_type": "execute_result"
    }
   ],
   "source": [
    "file_list"
   ]
  },
  {
   "cell_type": "code",
   "execution_count": 10,
   "id": "016db23c-1766-4740-bd8c-a072033092f3",
   "metadata": {},
   "outputs": [],
   "source": [
    "def cal_orientation_frame(df_left, df_right):\n",
    "    left_array = df_left.to_numpy()\n",
    "    right_array = df_right.to_numpy()\n",
    "    \n",
    "    last_frame = left_array.shape[0]\n",
    "    # print(last_frame)\n",
    "    \n",
    "    log_label = \"no\"\n",
    "    orientation_def_list = []\n",
    "    \n",
    "    for i in range(int(last_frame)):\n",
    "        if int(left_array[i, 9]) == 1 & int(right_array[i, 9]) == 1:\n",
    "            log_label = \"orientation\"\n",
    "        else:\n",
    "            log_label = \"no\"\n",
    "        \n",
    "        res = [i, log_label]\n",
    "        orientation_def_list.append(res)\n",
    "    orientation_def_list = np.array(orientation_def_list)\n",
    "    return orientation_def_list, last_frame\n",
    "                "
   ]
  },
  {
   "cell_type": "code",
   "execution_count": 11,
   "id": "aab91ba4-11ef-46cf-ac2d-33b56f5b7157",
   "metadata": {},
   "outputs": [
    {
     "name": "stderr",
     "output_type": "stream",
     "text": [
      "100%|██████████| 2/2 [00:00<00:00,  2.27it/s]\n"
     ]
    }
   ],
   "source": [
    "# Compared to Definitions\n",
    "result_list = np.empty((0, 10))  # 初期の空の二次元配列\n",
    "all_precision_true = 0\n",
    "all_precision_all = 0\n",
    "all_recall_true = 0\n",
    "all_recall_all = 0\n",
    "all_accuracy_true = 0\n",
    "all_accuracy_all = 0\n",
    "total_frame = 0\n",
    "file_count = 1\n",
    "last_frame = 0\n",
    "\n",
    "for file_line in tqdm(file_list):\n",
    "    yoru_data_path = f\"../data/YORU_data/{file_line[0]}\"\n",
    "    df_yoru = pd.read_csv(yoru_data_path)\n",
    "    df_ori_list = extract_orientation_frame(df_yoru)\n",
    "    \n",
    "    \n",
    "    def_left_data_path = f\"../data/Def_data/{file_line[2]}\"\n",
    "    df_def_left = pd.read_csv(def_left_data_path)\n",
    "    \n",
    "    def_right_data_path = f\"../data/Def_data/{file_line[3]}\"\n",
    "    df_def_right = pd.read_csv(def_right_data_path)\n",
    "    \n",
    "    def_orientation_list, last_frame = cal_orientation_frame(df_def_left, df_def_right)\n",
    "    \n",
    "    def_orientation_df = pd.DataFrame(def_orientation_list, columns = [\"frame\", \"detection\"])\n",
    "    def_orientation_df.to_csv(f'../data/Def_data/{file_count}_{os.path.splitext(file_line[2])[0]}_{os.path.splitext(file_line[3])[0]}.csv')\n",
    "    file_count += 1\n",
    "    # print(def_orientation_list)\n",
    "    \n",
    "    \n",
    "    precision, precision_true, precision_all = cal_precision(def_orientation_list, df_ori_list)\n",
    "    recall, recall_true, recall_all = cal_recall(def_orientation_list, df_ori_list)\n",
    "    accuracy, accuracy_true, accuracy_all = cal_accuracy(def_orientation_list, df_ori_list)\n",
    "    f1_score = cal_f1_score(precision, recall)\n",
    "    \n",
    "    file_line = np.append(file_line, [accuracy, precision, recall, f1_score, last_frame])\n",
    "    file_line = file_line.reshape(1, -1)  # 1行の2次元配列に変換\n",
    "    result_list = np.vstack((result_list, file_line))\n",
    "    \n",
    "    all_precision_true += precision_true\n",
    "    all_precision_all += precision_all\n",
    "    all_recall_true += recall_true\n",
    "    all_recall_all += recall_all\n",
    "    all_accuracy_true += accuracy_true\n",
    "    all_accuracy_all += accuracy_all\n",
    "    total_frame += int(last_frame)\n",
    "    \n",
    "all_accuracy = all_accuracy_true / all_accuracy_all\n",
    "all_precision = all_precision_true / all_precision_all\n",
    "all_recall = all_recall_true / all_recall_all\n",
    "\n",
    "value1 = all_precision_true + all_recall_true\n",
    "value2 = all_precision_all + all_recall_all\n",
    "all_f1_score = (2 * all_precision * all_recall) / (all_precision + all_recall) \n",
    "\n",
    "total_row = np.array([\"total\", \"total\", \"total\",\"total\", \"total\", all_accuracy, all_precision, all_recall, all_f1_score, total_frame])\n",
    "result_list = np.vstack((result_list, total_row.reshape(1, -1)))  # 1行の2次元配列に変換して追加\n"
   ]
  },
  {
   "cell_type": "code",
   "execution_count": 12,
   "id": "c92c7374-354d-4dee-8a78-68239e6a227d",
   "metadata": {},
   "outputs": [
    {
     "data": {
      "text/plain": [
       "array([['200529_3_on.csv', '20529_3_on.csv',\n",
       "        'processed_200529_3_onleft2.csv',\n",
       "        'processed_200529_3_onright2.csv', 'movie2',\n",
       "        '0.8096085409252669', '0.8641342344441855', '0.7658516369664319',\n",
       "        '0.8120298827315381', '8992.0'],\n",
       "       ['210118_1_on.csv', '210118_1_on.csv',\n",
       "        'processed_210118_1_onleft.csv',\n",
       "        'processed_210118_1_onright.csv', 'movie4', '0.8079403914590747',\n",
       "        '0.9010115606936416', '0.6315522917194226', '0.7425934196814055',\n",
       "        '8992.0'],\n",
       "       ['total', 'total', 'total', 'total', 'total',\n",
       "        '0.8087744661921709', '0.8785947017991217', '0.7054131054131054',\n",
       "        '0.7825368210607336', '17984']], dtype='<U32')"
      ]
     },
     "execution_count": 12,
     "metadata": {},
     "output_type": "execute_result"
    }
   ],
   "source": [
    "result_list"
   ]
  },
  {
   "cell_type": "code",
   "execution_count": 13,
   "id": "77cc623c-1a87-4f81-a708-c35d033e1f6b",
   "metadata": {},
   "outputs": [
    {
     "name": "stderr",
     "output_type": "stream",
     "text": [
      "100%|██████████| 2/2 [00:00<00:00,  2.38it/s]\n"
     ]
    }
   ],
   "source": [
    "# 初期化\n",
    "result_list2 = np.empty((0, 10))  # 初期の空の二次元配列\n",
    "all_precision_true = 0\n",
    "all_precision_all = 0\n",
    "all_recall_true = 0\n",
    "all_recall_all = 0\n",
    "all_accuracy_true = 0\n",
    "all_accuracy_all = 0\n",
    "total_frame = 0\n",
    "\n",
    "last_frame = 0\n",
    "\n",
    "\n",
    "file_line = 0\n",
    "for file_line in tqdm(file_list):\n",
    "             \n",
    "    yoru_data_path = f\"../data/YORU_data/{file_line[0]}\"\n",
    "    df_yoru = pd.read_csv(yoru_data_path)\n",
    "    df_ori_list = extract_orientation_frame(df_yoru)\n",
    "    df_ori = pd.DataFrame(df_ori_list)\n",
    "    df_ori.to_csv('../outputs/df_ori_compared_def_yoru_data_orientation.csv')\n",
    "\n",
    "    boris_data_path = f\"../data/BORIS_data/{file_line[1]}\"\n",
    "    df_boris = pd.read_csv(boris_data_path)\n",
    "    boris_orientation_list, last_frame = convert_frame_data(df_boris)\n",
    "    df_ori_boris = pd.DataFrame(boris_orientation_list)\n",
    "    df_ori_boris.to_csv('../outputs/df_ori_boris_compared_def_yoru_data_orientation.csv')\n",
    "\n",
    "    precision, precision_true, precision_all = cal_precision(boris_orientation_list, df_ori_list)\n",
    "    recall, recall_true, recall_all = cal_recall(boris_orientation_list, df_ori_list)\n",
    "    accuracy, accuracy_true, accuracy_all = cal_accuracy(boris_orientation_list, df_ori_list)\n",
    "    f1_score = cal_f1_score(precision, recall)\n",
    "\n",
    "    file_line = np.append(file_line, [accuracy, precision, recall, f1_score, last_frame])\n",
    "    file_line = file_line.reshape(1, -1)  # 1行の2次元配列に変換\n",
    "    result_list2 = np.vstack((result_list2, file_line))\n",
    "\n",
    "    all_precision_true += precision_true\n",
    "    all_precision_all += precision_all\n",
    "    all_recall_true += recall_true\n",
    "    all_recall_all += recall_all\n",
    "    all_accuracy_true += accuracy_true\n",
    "    all_accuracy_all += accuracy_all\n",
    "    total_frame += int(last_frame)\n",
    "    \n",
    "all_accuracy = all_accuracy_true / all_accuracy_all\n",
    "all_precision = all_precision_true / all_precision_all\n",
    "try:\n",
    "    all_recall = all_recall_true / all_recall_all\n",
    "except ZeroDivisionError:\n",
    "    all_recall = 0\n",
    "\n",
    "value1 = all_precision_true + all_recall_true\n",
    "value2 = all_precision_all + all_recall_all\n",
    "try:\n",
    "    all_f1_score = (2 * all_precision * all_recall) / (all_precision + all_recall) \n",
    "except ZeroDivisionError:\n",
    "    all_f1_score = 0\n",
    "\n",
    "total_row = np.array([\"total\", \"total\", \"total\",\"total\", \"total\", all_accuracy, all_precision, all_recall, all_f1_score, total_frame])\n",
    "result_list2 = np.vstack((result_list2, total_row.reshape(1, -1)))  # 1行の2次元配列に変換して追加\n"
   ]
  },
  {
   "cell_type": "code",
   "execution_count": 14,
   "id": "ca88823b-15ad-4e18-9a4a-98d1ac8130f9",
   "metadata": {},
   "outputs": [
    {
     "data": {
      "text/plain": [
       "array([['200529_3_on.csv', '20529_3_on.csv',\n",
       "        'processed_200529_3_onleft2.csv',\n",
       "        'processed_200529_3_onright2.csv', 'movie2',\n",
       "        '0.8954626334519573', '0.892099743649499', '0.8879590887959089',\n",
       "        '0.8900246003642884', '8992.0'],\n",
       "       ['210118_1_on.csv', '210118_1_on.csv',\n",
       "        'processed_210118_1_onleft.csv',\n",
       "        'processed_210118_1_onright.csv', 'movie4', '0.9141459074733096',\n",
       "        '0.8742774566473989', '0.8503162333099087', '0.8621303883149269',\n",
       "        '8992.0'],\n",
       "       ['total', 'total', 'total', 'total', 'total',\n",
       "        '0.9048042704626335', '0.8851112055531946', '0.8729714605484051',\n",
       "        '0.8789994199452268', '17984']], dtype='<U32')"
      ]
     },
     "execution_count": 14,
     "metadata": {},
     "output_type": "execute_result"
    }
   ],
   "source": [
    "result_list2"
   ]
  },
  {
   "cell_type": "code",
   "execution_count": 15,
   "id": "983602b9-f284-4fbc-974e-cc12df7b51d7",
   "metadata": {},
   "outputs": [
    {
     "name": "stderr",
     "output_type": "stream",
     "text": [
      "  0%|          | 0/2 [00:00<?, ?it/s]"
     ]
    },
    {
     "name": "stdout",
     "output_type": "stream",
     "text": [
      "[['38' 'orientation']\n",
      " ['39' 'orientation']\n",
      " ['40' 'orientation']\n",
      " ...\n",
      " ['8926' 'orientation']\n",
      " ['8927' 'orientation']\n",
      " ['8928' 'orientation']]\n"
     ]
    },
    {
     "name": "stderr",
     "output_type": "stream",
     "text": [
      " 50%|█████     | 1/2 [00:00<00:00,  1.78it/s]"
     ]
    },
    {
     "name": "stdout",
     "output_type": "stream",
     "text": [
      "[['15' 'orientation']\n",
      " ['16' 'orientation']\n",
      " ['17' 'orientation']\n",
      " ...\n",
      " ['8989' 'orientation']\n",
      " ['8990' 'orientation']\n",
      " ['8991' 'orientation']]\n"
     ]
    },
    {
     "name": "stderr",
     "output_type": "stream",
     "text": [
      "100%|██████████| 2/2 [00:00<00:00,  2.11it/s]\n"
     ]
    }
   ],
   "source": [
    "# Manual vs Definision\n",
    "result_list3 = np.empty((0, 10))  # 初期の空の二次元配列\n",
    "all_precision_true = 0\n",
    "all_precision_all = 0\n",
    "all_recall_true = 0\n",
    "all_recall_all = 0\n",
    "all_accuracy_true = 0\n",
    "all_accuracy_all = 0\n",
    "total_frame = 0\n",
    "file_count = 1\n",
    "last_frame = 0\n",
    "\n",
    "file_line = 0\n",
    "for file_line in tqdm(file_list):\n",
    "             \n",
    "    def_left_data_path = f\"../data/Def_data/{file_line[2]}\"\n",
    "    df_def_left = pd.read_csv(def_left_data_path)\n",
    "    \n",
    "    def_right_data_path = f\"../data/Def_data/{file_line[3]}\"\n",
    "    df_def_right = pd.read_csv(def_right_data_path)\n",
    "    \n",
    "    def_orientation_list, last_frame = cal_orientation_frame(df_def_left, df_def_right)\n",
    "    \n",
    "    def_orientation_df = pd.DataFrame(def_orientation_list, columns = [\"frame\", \"detection\"])\n",
    "    # print(def_orientat\n",
    "\n",
    "    boris_data_path = f\"../data/BORIS_data/{file_line[1]}\"\n",
    "    df_boris = pd.read_csv(boris_data_path)\n",
    "    boris_orientation_list, last_frame = convert_frame_data(df_boris)\n",
    "    boris_filtered_list = [item for item in boris_orientation_list if item[1] == 'orientation']\n",
    "    boris_filtered_list = np.array(boris_filtered_list)\n",
    "    df_ori_boris = pd.DataFrame(boris_orientation_list)\n",
    "    \n",
    "    print(boris_filtered_list)\n",
    "    \n",
    "\n",
    "    precision, precision_true, precision_all = cal_precision(def_orientation_list, boris_filtered_list)\n",
    "    recall, recall_true, recall_all = cal_recall(def_orientation_list, boris_filtered_list)\n",
    "    accuracy, accuracy_true, accuracy_all = cal_accuracy(def_orientation_list, boris_filtered_list)\n",
    "    f1_score = cal_f1_score(precision, recall)\n",
    "\n",
    "    file_line = np.append(file_line, [accuracy, precision, recall, f1_score, last_frame])\n",
    "    file_line = file_line.reshape(1, -1)  # 1行の2次元配列に変換\n",
    "    result_list3 = np.vstack((result_list3, file_line))\n",
    "\n",
    "    all_precision_true += precision_true\n",
    "    all_precision_all += precision_all\n",
    "    all_recall_true += recall_true\n",
    "    all_recall_all += recall_all\n",
    "    all_accuracy_true += accuracy_true\n",
    "    all_accuracy_all += accuracy_all\n",
    "    total_frame += int(last_frame)\n",
    "    \n",
    "all_accuracy = all_accuracy_true / all_accuracy_all\n",
    "all_precision = all_precision_true / all_precision_all\n",
    "try:\n",
    "    all_recall = all_recall_true / all_recall_all\n",
    "except ZeroDivisionError:\n",
    "    all_recall = 0\n",
    "\n",
    "value1 = all_precision_true + all_recall_true\n",
    "value2 = all_precision_all + all_recall_all\n",
    "try:\n",
    "    all_f1_score = (2 * all_precision * all_recall) / (all_precision + all_recall) \n",
    "except ZeroDivisionError:\n",
    "    all_f1_score = 0\n",
    "\n",
    "total_row = np.array([\"total\", \"total\", \"total\",\"total\", \"total\", all_accuracy, all_precision, all_recall, all_f1_score, total_frame])\n",
    "result_list3 = np.vstack((result_list3, total_row.reshape(1, -1)))  # 1行の2次元配列に変換して追加\n"
   ]
  },
  {
   "cell_type": "code",
   "execution_count": 16,
   "id": "d6f64d2c-8723-4d4a-a093-6d990614a86a",
   "metadata": {},
   "outputs": [
    {
     "data": {
      "text/plain": [
       "array([['200529_3_on.csv', '20529_3_on.csv',\n",
       "        'processed_200529_3_onleft2.csv',\n",
       "        'processed_200529_3_onright2.csv', 'movie2',\n",
       "        '0.8004893238434164', '0.8523942352394235', '0.7598425196850394',\n",
       "        '0.8034618755477652', '8992.0'],\n",
       "       ['210118_1_on.csv', '210118_1_on.csv',\n",
       "        'processed_210118_1_onleft.csv',\n",
       "        'processed_210118_1_onright.csv', 'movie4', '0.8228425266903915',\n",
       "        '0.9139142656359803', '0.6586477589263104', '0.7655629139072847',\n",
       "        '8992.0'],\n",
       "       ['total', 'total', 'total', 'total', 'total', '0.811665925266904',\n",
       "        '0.8768886401790711', '0.7143019943019943', '0.7872888274822584',\n",
       "        '17984']], dtype='<U32')"
      ]
     },
     "execution_count": 16,
     "metadata": {},
     "output_type": "execute_result"
    }
   ],
   "source": [
    "result_list3"
   ]
  },
  {
   "cell_type": "code",
   "execution_count": 17,
   "id": "13e5b00e-76ef-4b52-87e3-5a1745f6329a",
   "metadata": {},
   "outputs": [],
   "source": [
    "results = pd.DataFrame(result_list, columns = [\"yoru_data_name\", \"boris_data_name\", \"def_left_data_name\", \"def_right_data_name\", \"movie_idex\", \"accuracy\", \"precision\", \"recall\", \"f1_score\", \"movie_total_frames\"])\n",
    "results.to_csv('../outputs/compared_def_yoru_data_orientation.csv')"
   ]
  },
  {
   "cell_type": "code",
   "execution_count": 18,
   "id": "fdffaab0-9a2c-4e47-a11b-81aa83bc7cc5",
   "metadata": {},
   "outputs": [],
   "source": [
    "results2 = pd.DataFrame(result_list2, columns = [\"yoru_data_name\", \"boris_data_name\", \"def_left_data_name\", \"def_right_data_name\", \"movie_idex\", \"accuracy\", \"precision\", \"recall\", \"f1_score\", \"movie_total_frames\"])\n",
    "results2.to_csv('../outputs/compared_human_yoru_data_orientation.csv')"
   ]
  },
  {
   "cell_type": "code",
   "execution_count": 19,
   "id": "02cff154-d86a-49b5-ab28-7f346841a4c9",
   "metadata": {},
   "outputs": [],
   "source": [
    "results3 = pd.DataFrame(result_list3, columns = [\"yoru_data_name\", \"boris_data_name\", \"def_left_data_name\", \"def_right_data_name\", \"movie_idex\", \"accuracy\", \"precision\", \"recall\", \"f1_score\", \"movie_total_frames\"])\n",
    "results3.to_csv('../outputs/compared_human_def_orientation.csv')"
   ]
  }
 ],
 "metadata": {
  "kernelspec": {
   "display_name": "Python 3 (ipykernel)",
   "language": "python",
   "name": "python3"
  },
  "language_info": {
   "codemirror_mode": {
    "name": "ipython",
    "version": 3
   },
   "file_extension": ".py",
   "mimetype": "text/x-python",
   "name": "python",
   "nbconvert_exporter": "python",
   "pygments_lexer": "ipython3",
   "version": "3.8.13"
  }
 },
 "nbformat": 4,
 "nbformat_minor": 5
}
