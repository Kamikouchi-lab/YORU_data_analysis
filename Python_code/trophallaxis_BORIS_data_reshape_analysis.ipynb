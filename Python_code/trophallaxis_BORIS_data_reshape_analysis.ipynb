{
 "cells": [
  {
   "cell_type": "code",
   "execution_count": null,
   "id": "58ee8cf7-8d10-40b6-af94-2b2d87599f15",
   "metadata": {},
   "outputs": [],
   "source": [
    "import pandas as pd\n",
    "import numpy as np\n",
    "import matplotlib as mpl\n",
    "import matplotlib.pyplot as plt\n",
    "import matplotlib.cm as cm\n",
    "import matplotlib.patches as patches\n",
    "import seaborn as sns\n",
    "import os\n",
    "import glob\n",
    "import csv\n",
    "from natsort import natsorted\n",
    "from itertools import chain\n",
    "import scipy.stats as stats\n",
    "from scipy.stats import brunnermunzel\n",
    "from tqdm import tqdm\n",
    "\n",
    "#check directory\n",
    "os.getcwd()\n",
    "\n",
    "#fonts\n",
    "mpl.rcParams[\"pdf.fonttype\"] = 42\n",
    "mpl.rcParams[\"ps.fonttype\"] = 42\n",
    "mpl.rcParams[\"font.sans-serif\"] = \"Arial\"\n",
    "mpl.rcParams[\"font.family\"] = \"sans-serif\""
   ]
  },
  {
   "cell_type": "code",
   "execution_count": null,
   "id": "77ae635e-07b0-414f-8b23-a8ccfdbe71e8",
   "metadata": {},
   "outputs": [],
   "source": [
    " def convert_frame_data(df):\n",
    "    list_from_df = df.values.tolist()\n",
    "    list_from_df = np.array(list_from_df)\n",
    "    # print(list_from_df[-1][11])\n",
    "    log_label = \"no\"\n",
    "    wing_boris_list = []\n",
    "    # print(list_from_df[-1])\n",
    "    if list_from_df[-1][12] == \"POINT\":\n",
    "        last_frame = list_from_df[-1][15]\n",
    "    elif list_from_df[-2][12] == \"POINT\":\n",
    "        last_frame = list_from_df[-2][15]\n",
    "    else:\n",
    "        print(\"error\")\n",
    "\n",
    "    # print(list_from_df[:, 14])\n",
    "    # print(int(last_frame))\n",
    "\n",
    "    num_list = list_from_df[:, 15]\n",
    "\n",
    "    for i in range(int(last_frame)):\n",
    "        if str(i) in num_list:\n",
    "            index_num = np.where(num_list==str(i))\n",
    "            # print(index_num)\n",
    "            line_list = list_from_df[index_num].flatten()\n",
    "            # print(line_list)\n",
    "            if line_list[12]==\"START\":\n",
    "                log_label = \"trophallaxis\"\n",
    "                res = [i, log_label]\n",
    "                wing_boris_list.append(res)\n",
    "                continue\n",
    "\n",
    "            if line_list[12]==\"STOP\":\n",
    "                res = [i, log_label]\n",
    "                wing_boris_list.append(res)\n",
    "                log_label = \"no\"\n",
    "                continue\n",
    "\n",
    "            if line_list[12]==\"finish\":\n",
    "                break\n",
    "            else:\n",
    "                break\n",
    "\n",
    "        res = [i, log_label]\n",
    "        wing_boris_list.append(res)\n",
    "    wing_boris_list = np.array(wing_boris_list)\n",
    "    return wing_boris_list, last_frame"
   ]
  },
  {
   "cell_type": "code",
   "execution_count": null,
   "id": "2c2a1b83-b2e6-4921-b595-63f0c37c5b20",
   "metadata": {},
   "outputs": [],
   "source": [
    "def extract_wing_frame(df):\n",
    "    df_wing = df[df[\"class_name\"] == \"trophallaxis\"]\n",
    "    df_wing = df_wing.drop_duplicates()\n",
    "    df_wing = df_wing.filter(items=['frame', 'class_name'])\n",
    "    df_wing_list = df_wing.values.tolist()\n",
    "    df_wing_list = np.array(df_wing_list)\n",
    "    return df_wing_list"
   ]
  },
  {
   "cell_type": "markdown",
   "id": "f9e00c85-2dbe-40c5-bb25-94551073adb7",
   "metadata": {},
   "source": [
    "# Accuracy Calculation"
   ]
  },
  {
   "cell_type": "code",
   "execution_count": null,
   "id": "b1b9c03b-c0a5-4a54-8e48-9573b5680a1d",
   "metadata": {},
   "outputs": [],
   "source": [
    "def cal_accuracy(wing_boris_list, df_wing_list):\n",
    "    accuracy_list = []\n",
    "    manual_num_list = wing_boris_list[:, 0]\n",
    "\n",
    "\n",
    "    for k in range(wing_boris_list.shape[0]):\n",
    "        manual_line_list = wing_boris_list[k]\n",
    "        if manual_line_list[1]==\"trophallaxis\":\n",
    "            if manual_line_list[0] in df_wing_list[:, 0]:\n",
    "                accuracy_list += [[k, True]]\n",
    "            else:\n",
    "                accuracy_list += [[k, False]]\n",
    "\n",
    "        elif manual_line_list[1]==\"no\":\n",
    "            if manual_line_list[0] not in df_wing_list[:, 0]:\n",
    "                accuracy_list += [[k, True]]\n",
    "            else:\n",
    "                accuracy_list += [[k, False]]\n",
    "        else:\n",
    "            print(\"error\")\n",
    "\n",
    "    # print(len(accuracy_list), len(wing_boris_list)) \n",
    "    accuracy_df = pd.DataFrame(accuracy_list, columns=['frame', 'detection'])\n",
    "    accuracy_true = len(accuracy_df[accuracy_df[\"detection\"]==True])\n",
    "    accuracy_all = len(accuracy_df)\n",
    "\n",
    "    accuracy = accuracy_true/accuracy_all\n",
    "    return accuracy, accuracy_true, accuracy_all"
   ]
  },
  {
   "cell_type": "markdown",
   "id": "21f53c73-a314-4903-b780-75ddd33ff8f1",
   "metadata": {},
   "source": [
    "# Precision Calculation"
   ]
  },
  {
   "cell_type": "code",
   "execution_count": null,
   "id": "e76f34fe-470d-440f-b4ce-a68aead132f6",
   "metadata": {},
   "outputs": [],
   "source": [
    "def cal_precision(wing_boris_list, df_wing_list):\n",
    "    precision_list = []\n",
    "    manual_num_list = wing_boris_list[:, 0]\n",
    "\n",
    "    # print(df_wing_list.shape[0])\n",
    "\n",
    "    for j in range(df_wing_list.shape[0]):\n",
    "        number = df_wing_list[j, 0]\n",
    "        if number in manual_num_list:\n",
    "            if wing_boris_list[int(number), 1] == \"trophallaxis\":\n",
    "                precision_list += [[int(number), True]]\n",
    "            else:\n",
    "                precision_list += [[int(number), False]]\n",
    "        else:\n",
    "            precision_list += [[int(number), False]]\n",
    "\n",
    "    # print(len(precision_list), len(df_wing_list))\n",
    "\n",
    "    precision_df = pd.DataFrame(precision_list, columns=['frame', 'detection'])\n",
    "    precision_true = len(precision_df[precision_df[\"detection\"]==True])\n",
    "    precision_all = len(precision_df)\n",
    "\n",
    "    precision =  precision_true/precision_all\n",
    "    return precision,  precision_true, precision_all"
   ]
  },
  {
   "cell_type": "markdown",
   "id": "669f68ef-75d6-42b2-965f-467bbec802e6",
   "metadata": {},
   "source": [
    "# Recall Calculation"
   ]
  },
  {
   "cell_type": "code",
   "execution_count": null,
   "id": "3be9c13d-8dab-4516-9db4-028111e9a17e",
   "metadata": {},
   "outputs": [],
   "source": [
    "def cal_recall(wing_boris_list, df_wing_list):\n",
    "    recall_list = []\n",
    "    manual_num_list = wing_boris_list[:, 0]\n",
    "\n",
    "\n",
    "    for k in range(wing_boris_list.shape[0]):\n",
    "        manual_line_list = wing_boris_list[k]\n",
    "        if manual_line_list[1]==\"trophallaxis\":\n",
    "            if manual_line_list[0] in df_wing_list[:, 0]:\n",
    "                recall_list += [[k, True]]\n",
    "            else:\n",
    "                recall_list += [[k, False]]\n",
    "        else:\n",
    "            # print(\"error\")\n",
    "            pass\n",
    "\n",
    "    # print(len(recall_list), len(wing_boris_list)) \n",
    "    recall_df = pd.DataFrame(recall_list, columns=['frame', 'detection'])\n",
    "    recall_true = len(recall_df[recall_df[\"detection\"]==True])\n",
    "    recall_all = len(recall_df)\n",
    "\n",
    "    recall = recall_true/recall_all\n",
    "    return recall, recall_true, recall_all"
   ]
  },
  {
   "cell_type": "markdown",
   "id": "7926cfd2-4cf1-41b1-871e-f6a9d974df3d",
   "metadata": {},
   "source": [
    "# Calculate F1 score"
   ]
  },
  {
   "cell_type": "raw",
   "id": "168d1f3c-1985-40c1-af63-627558d2ad3e",
   "metadata": {},
   "source": [
    "def cal_f1_score(precision_true, precision_all, recall_true, recall_all):\n",
    "    value1 = precision_true + recall_true\n",
    "    value2 = precision_all + recall_all\n",
    "    # print(value1, value2)\n",
    "    F1 = value1 /value2\n",
    "    return F1\n"
   ]
  },
  {
   "cell_type": "code",
   "execution_count": null,
   "id": "e24e5c9f-a54e-494e-9cbc-9ab67ac3778c",
   "metadata": {},
   "outputs": [],
   "source": [
    "def cal_f1_score(precision, recall):\n",
    "\n",
    "    F1 = (2*precision*recall) /(precision + recall)\n",
    "    return F1\n"
   ]
  },
  {
   "cell_type": "code",
   "execution_count": null,
   "id": "da58950d-387e-455a-aa65-0201644b4d83",
   "metadata": {},
   "outputs": [],
   "source": [
    "df_file_list = pd.read_csv('../data/file_list.csv')\n",
    "file_list = df_file_list.values.tolist()\n",
    "file_list = np.array(file_list)"
   ]
  },
  {
   "cell_type": "code",
   "execution_count": null,
   "id": "4334424e-33e4-45b8-b81d-4469ae7d1540",
   "metadata": {},
   "outputs": [],
   "source": [
    "# 初期化\n",
    "result_list = np.empty((0, 8))  # 初期の空の二次元配列\n",
    "all_precision_true = 0\n",
    "all_precision_all = 0\n",
    "all_recall_true = 0\n",
    "all_recall_all = 0\n",
    "all_accuracy_true = 0\n",
    "all_accuracy_all = 0\n",
    "total_frame = 0\n",
    "\n",
    "for file_line in tqdm(file_list):\n",
    "    yoru_data_path = f\"../data/YORU_data/{file_line[0]}\"\n",
    "    df_yoru = pd.read_csv(yoru_data_path)\n",
    "    df_wing_list = extract_wing_frame(df_yoru)\n",
    "    \n",
    "    boris_data_path = f\"../data/BORIS_data/{file_line[1]}\"\n",
    "    df_boris = pd.read_csv(boris_data_path)\n",
    "    wing_boris_list, last_frame = convert_frame_data(df_boris)\n",
    "    \n",
    "    precision, precision_true, precision_all = cal_precision(wing_boris_list, df_wing_list)\n",
    "    recall, recall_true, recall_all = cal_recall(wing_boris_list, df_wing_list)\n",
    "    accuracy, accuracy_true, accuracy_all = cal_accuracy(wing_boris_list, df_wing_list)\n",
    "    f1_score = cal_f1_score(precision, recall)\n",
    "    \n",
    "    file_line = np.append(file_line, [accuracy, precision, recall, f1_score, last_frame])\n",
    "    file_line = file_line.reshape(1, -1)  # 1行の2次元配列に変換\n",
    "    result_list = np.vstack((result_list, file_line))\n",
    "    \n",
    "    all_precision_true += precision_true\n",
    "    all_precision_all += precision_all\n",
    "    all_recall_true += recall_true\n",
    "    all_recall_all += recall_all\n",
    "    all_accuracy_true += accuracy_true\n",
    "    all_accuracy_all += accuracy_all\n",
    "    total_frame += int(last_frame)\n",
    "    \n",
    "all_accuracy = all_accuracy_true / all_accuracy_all\n",
    "all_precision = all_precision_true / all_precision_all\n",
    "all_recall = all_recall_true / all_recall_all\n",
    "\n",
    "value1 = all_precision_true + all_recall_true\n",
    "value2 = all_precision_all + all_recall_all\n",
    "all_f1_score = (2 * all_precision * all_recall) / (all_precision + all_recall) \n",
    "\n",
    "total_row = np.array([\"total\", \"total\", \"total\", all_accuracy, all_precision, all_recall, all_f1_score, total_frame])\n",
    "result_list = np.vstack((result_list, total_row.reshape(1, -1)))  # 1行の2次元配列に変換して追加\n"
   ]
  },
  {
   "cell_type": "code",
   "execution_count": null,
   "id": "d6f64d2c-8723-4d4a-a093-6d990614a86a",
   "metadata": {},
   "outputs": [],
   "source": [
    "result_list"
   ]
  },
  {
   "cell_type": "code",
   "execution_count": null,
   "id": "13e5b00e-76ef-4b52-87e3-5a1745f6329a",
   "metadata": {},
   "outputs": [],
   "source": [
    "results = pd.DataFrame(result_list, columns = [\"yoru_data_name\", \"boris_data_name\", \"movie_idex\", \"accuracy\", \"precision\", \"recall\", \"f1_score\", \"movie_total_frames\"])\n",
    "results.to_csv('../outputs/compared_data_ant_trophallaxis.csv')"
   ]
  },
  {
   "cell_type": "code",
   "execution_count": null,
   "id": "fdffaab0-9a2c-4e47-a11b-81aa83bc7cc5",
   "metadata": {},
   "outputs": [],
   "source": []
  }
 ],
 "metadata": {
  "kernelspec": {
   "display_name": "Python 3 (ipykernel)",
   "language": "python",
   "name": "python3"
  },
  "language_info": {
   "codemirror_mode": {
    "name": "ipython",
    "version": 3
   },
   "file_extension": ".py",
   "mimetype": "text/x-python",
   "name": "python",
   "nbconvert_exporter": "python",
   "pygments_lexer": "ipython3",
   "version": "3.8.13"
  }
 },
 "nbformat": 4,
 "nbformat_minor": 5
}
