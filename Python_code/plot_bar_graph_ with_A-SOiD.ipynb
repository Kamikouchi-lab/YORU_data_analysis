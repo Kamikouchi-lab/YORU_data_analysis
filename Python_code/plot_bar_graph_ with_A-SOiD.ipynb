{
 "cells": [
  {
   "cell_type": "code",
   "execution_count": null,
   "id": "352e5e09",
   "metadata": {},
   "outputs": [],
   "source": [
    "import seaborn as sns\n",
    "import matplotlib.pyplot as plt\n",
    "import pandas as pd\n",
    "\n",
    "plt.rcParams['pdf.fonttype'] = 42\n",
    "plt.rcParams['font.family']= 'sans-serif'\n",
    "plt.rcParams['font.sans-serif'] = ['Arial']\n",
    "\n",
    "sns.set()\n",
    "sns.set_style('ticks', {'grid.linestyle': '-'})\n",
    "sns.set_context(\"notebook\", font_scale=1.9, rc={\"lines.linewidth\": 2.0})\n",
    "def adjust_spines(ax=[]\n",
    "                  ,spines=['left', 'bottom']):\n",
    "    ax.spines['top'].set_linewidth(0)\n",
    "    # ax.spines['right'</span>].set_linewidth(0)\n",
    "    ax.spines['left'].set_linewidth(1.5)\n",
    "    ax.spines['left'].set_color('k')\n",
    "    ax.spines['bottom'].set_linewidth(1.5)\n",
    "    ax.spines['bottom'].set_color('k')\n",
    "    ax.tick_params(direction='out', length=6, width=1.5, color='k')\n",
    "    for loc, spine in ax.spines.items():\n",
    "        if loc in spines:\n",
    "            spine.set_position(('outward', 2.0)) # outward by 10 points\n",
    "            # spine.set_bounds(True)\n",
    "        else:\n",
    "            spine.set_color('none') # don't draw spine\n",
    "df = pd.read_csv(\"metrics_summary_image_classification.csv\")\n",
    "\n",
    "plt.figure(figsize=(8, 5))\n",
    "sns.barplot(data=df, x=\"Dataset\", hue=\"Model\", y=\"F1-Score\")\n",
    "adjust_spines(plt.gca())\n",
    "\n",
    "plt.legend(bbox_to_anchor=(1.05, 1), loc='upper left', borderaxespad=0.)\n",
    "plt.tight_layout()\n",
    "plt.xticks(ticks=[0,1], labels=[\"Fly-wing extension\", \"Ant-trophallaxis\"], rotation=-90)\n",
    "\n",
    "plt.savefig(\"summary_graph_compared_with_A-SOiD.pdf\")\n"
   ]
  },
  {
   "cell_type": "code",
   "execution_count": null,
   "id": "8e2ce190",
   "metadata": {},
   "outputs": [],
   "source": []
  },
  {
   "cell_type": "code",
   "execution_count": null,
   "id": "d5860479",
   "metadata": {},
   "outputs": [],
   "source": []
  }
 ],
 "metadata": {
  "kernelspec": {
   "display_name": "yoru",
   "language": "python",
   "name": "python3"
  },
  "language_info": {
   "codemirror_mode": {
    "name": "ipython",
    "version": 3
   },
   "file_extension": ".py",
   "mimetype": "text/x-python",
   "name": "python",
   "nbconvert_exporter": "python",
   "pygments_lexer": "ipython3",
   "version": "3.10.14"
  }
 },
 "nbformat": 4,
 "nbformat_minor": 5
}
