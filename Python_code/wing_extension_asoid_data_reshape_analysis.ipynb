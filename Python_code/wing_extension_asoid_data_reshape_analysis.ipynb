{
 "cells": [
  {
   "cell_type": "code",
   "execution_count": 1,
   "id": "58ee8cf7-8d10-40b6-af94-2b2d87599f15",
   "metadata": {},
   "outputs": [],
   "source": [
    "from pathlib import Path\n",
    "import argparse\n",
    "import numpy as np\n",
    "import pandas as pd\n",
    "from tqdm.auto import tqdm\n",
    "from __future__ import annotations\n",
    "from pathlib import Path\n",
    "import pandas as pd\n",
    "from sklearn.metrics import (\n",
    "    precision_score,\n",
    "    recall_score,\n",
    "    f1_score,\n",
    "    accuracy_score,\n",
    ")\n",
    "from sklearn.metrics import (\n",
    "    precision_score,\n",
    "    recall_score,\n",
    "    f1_score,\n",
    "    accuracy_score,\n",
    ")"
   ]
  },
  {
   "cell_type": "code",
   "execution_count": 2,
   "id": "4da143c8",
   "metadata": {},
   "outputs": [],
   "source": [
    "def upsample_to_hz(df: pd.DataFrame, behaviour: str, target_hz: int) -> pd.DataFrame:\n",
    "    \"\"\"Forward-fill 10 Hz ラベル → target_hz.\"\"\"\n",
    "    step = 1 / target_hz\n",
    "    min_t, max_t = df[\"time\"].iloc[0], df[\"time\"].iloc[-1]\n",
    "    timeline = np.arange(min_t, max_t + 1e-9, step)\n",
    "    dense = pd.DataFrame({\"time\": timeline})\n",
    "    dense = pd.merge_asof(\n",
    "        dense, df[[\"time\", behaviour]].sort_values(\"time\"), on=\"time\", direction=\"backward\"\n",
    "    )\n",
    "    dense[\"time\"] = dense[\"time\"].round(3)  # 0.000, 0.033, 0.067 …\n",
    "    return dense.rename(columns={behaviour: \"label\"})"
   ]
  },
  {
   "cell_type": "code",
   "execution_count": 3,
   "id": "d875fa07",
   "metadata": {},
   "outputs": [],
   "source": [
    "def load_and_upsample(csv_path: Path, behaviour: str, target_hz: int) -> pd.DataFrame:\n",
    "    df = pd.read_csv(csv_path)\n",
    "    if \"time\" not in df or behaviour not in df:\n",
    "        raise ValueError(f\"{csv_path} には 'time' または '{behaviour}' 列がありません\")\n",
    "    return upsample_to_hz(df, behaviour, target_hz)"
   ]
  },
  {
   "cell_type": "code",
   "execution_count": 4,
   "id": "a6b518d4",
   "metadata": {},
   "outputs": [],
   "source": [
    "def calc_metrics(y_true: np.ndarray, y_pred: np.ndarray) -> dict[str, float]:\n",
    "    return {\n",
    "        \"precision\": precision_score(y_true, y_pred, zero_division=0),\n",
    "        \"recall\": recall_score(y_true, y_pred, zero_division=0),\n",
    "        \"f1_score\": f1_score(y_true, y_pred, zero_division=0),\n",
    "        \"accuracy\": accuracy_score(y_true, y_pred),\n",
    "    }"
   ]
  },
  {
   "cell_type": "code",
   "execution_count": 5,
   "id": "f7b1f4ac",
   "metadata": {},
   "outputs": [],
   "source": [
    "def main(file_list, file_no):\n",
    "\n",
    "    behavior =\"wing_extension\"\n",
    "    sample_hz = 30\n",
    "    \n",
    "    rows = []\n",
    "    all_true, all_pred = [], []\n",
    "    \n",
    "    for file_line in tqdm(file_list):\n",
    "        asoid_data_path = f\"../data/asoid_data/{file_line[0]}\"\n",
    "        boris_data_path = f\"../data/BORIS_data/{file_line[1]}\"\n",
    "\n",
    "        # アップサンプルしてマージ\n",
    "        gt_df = load_and_upsample(boris_data_path, behavior, sample_hz)\n",
    "        pr_df = load_and_upsample(asoid_data_path, behavior, sample_hz)\n",
    "        merged = gt_df.merge(pr_df, on=\"time\", suffixes=(\"_gt\", \"_pred\"), how=\"inner\")\n",
    "\n",
    "        y_true = merged[\"label_gt\"].astype(int).to_numpy()\n",
    "        y_pred = merged[\"label_pred\"].astype(int).to_numpy()\n",
    "\n",
    "        m = calc_metrics(y_true, y_pred)\n",
    "        m[\"file\"] = Path(boris_data_path).name\n",
    "        m[\"frames\"] = len(merged)\n",
    "        rows.append(m)\n",
    "\n",
    "        all_true.append(y_true)\n",
    "        all_pred.append(y_pred)\n",
    "\n",
    "    if not rows:\n",
    "        raise RuntimeError(\"対応するファイルペアが見つかりません\")\n",
    "\n",
    "    # 全ファイル統合\n",
    "    y_true_all = np.concatenate(all_true)\n",
    "    y_pred_all = np.concatenate(all_pred)\n",
    "    overall = calc_metrics(y_true_all, y_pred_all)\n",
    "    overall.update({\"file\": \"ALL\", \"frames\": len(y_true_all)})\n",
    "    rows.append(overall)\n",
    "\n",
    "    # CSV 出力\n",
    "    df_out = pd.DataFrame(rows).set_index(\"file\")\n",
    "    out_path = f\"../outputs/result_{file_no}.csv\"\n",
    "    df_out.to_csv(out_path, float_format=\"%.6f\")\n",
    "    print(f\"Saved metrics → {out_path}\")\n",
    "    print(df_out)"
   ]
  },
  {
   "cell_type": "code",
   "execution_count": 6,
   "id": "15b1309e",
   "metadata": {},
   "outputs": [
    {
     "data": {
      "application/vnd.jupyter.widget-view+json": {
       "model_id": "5fc156109b404284a75c9394bdb606e1",
       "version_major": 2,
       "version_minor": 0
      },
      "text/plain": [
       "  0%|          | 0/2 [00:00<?, ?it/s]"
      ]
     },
     "metadata": {},
     "output_type": "display_data"
    },
    {
     "name": "stdout",
     "output_type": "stream",
     "text": [
      "Saved metrics → ../outputs/result_1314.csv\n",
      "                                               precision    recall  f1_score  \\\n",
      "file                                                                           \n",
      "cs-h_movie_0013 23-10-27 15-14-00_cropped.csv   0.425647  0.379495  0.401249   \n",
      "cs-h_movie_0014 23-10-27 15-28-17_cropped.csv   0.704532  0.583457  0.638304   \n",
      "ALL                                             0.565758  0.485725  0.522696   \n",
      "\n",
      "                                               accuracy  frames  \n",
      "file                                                             \n",
      "cs-h_movie_0013 23-10-27 15-14-00_cropped.csv  0.665875   12630  \n",
      "cs-h_movie_0014 23-10-27 15-28-17_cropped.csv  0.779043   12120  \n",
      "ALL                                            0.721293   24750  \n"
     ]
    }
   ],
   "source": [
    "df_file_list = pd.read_csv('../data/file_list_1314.csv')\n",
    "file_list = df_file_list.values.tolist()\n",
    "file_list = np.array(file_list)\n",
    "main(file_list, \"1314\")"
   ]
  },
  {
   "cell_type": "code",
   "execution_count": 7,
   "id": "f161db0b",
   "metadata": {},
   "outputs": [
    {
     "data": {
      "application/vnd.jupyter.widget-view+json": {
       "model_id": "548174ecf1d24eee8ba2bc1f95e90f52",
       "version_major": 2,
       "version_minor": 0
      },
      "text/plain": [
       "  0%|          | 0/2 [00:00<?, ?it/s]"
      ]
     },
     "metadata": {},
     "output_type": "display_data"
    },
    {
     "name": "stdout",
     "output_type": "stream",
     "text": [
      "Saved metrics → ../outputs/result_1516.csv\n",
      "                                               precision    recall  f1_score  \\\n",
      "file                                                                           \n",
      "cs-h_movie_0015 23-10-27 15-40-40_cropped.csv   0.755322  0.348747  0.477174   \n",
      "cs-h_movie_0016 23-10-27 15-54-23_cropped.csv   0.944533  0.441852  0.602060   \n",
      "ALL                                             0.836501  0.388394  0.530482   \n",
      "\n",
      "                                               accuracy  frames  \n",
      "file                                                             \n",
      "cs-h_movie_0015 23-10-27 15-40-40_cropped.csv  0.674336   16950  \n",
      "cs-h_movie_0016 23-10-27 15-54-23_cropped.csv  0.617949    8190  \n",
      "ALL                                            0.655967   25140  \n"
     ]
    }
   ],
   "source": [
    "df_file_list = pd.read_csv('../data/file_list_1516.csv')\n",
    "file_list = df_file_list.values.tolist()\n",
    "file_list = np.array(file_list)\n",
    "main(file_list, \"1516\")"
   ]
  },
  {
   "cell_type": "code",
   "execution_count": 8,
   "id": "fdffaab0-9a2c-4e47-a11b-81aa83bc7cc5",
   "metadata": {},
   "outputs": [
    {
     "data": {
      "application/vnd.jupyter.widget-view+json": {
       "model_id": "e6096b20776041e99982c32b7d468e64",
       "version_major": 2,
       "version_minor": 0
      },
      "text/plain": [
       "  0%|          | 0/2 [00:00<?, ?it/s]"
      ]
     },
     "metadata": {},
     "output_type": "display_data"
    },
    {
     "name": "stdout",
     "output_type": "stream",
     "text": [
      "Saved metrics → ../outputs/result_1718.csv\n",
      "                                               precision    recall  f1_score  \\\n",
      "file                                                                           \n",
      "cs-h_movie_0017 23-10-27 16-01-24_cropped.csv   0.874070  0.350793  0.500656   \n",
      "cs-h_movie_0018 23-10-27 16-15-23_cropped.csv   0.892102  0.433243  0.583239   \n",
      "ALL                                             0.884350  0.393906  0.545041   \n",
      "\n",
      "                                               accuracy  frames  \n",
      "file                                                             \n",
      "cs-h_movie_0017 23-10-27 16-01-24_cropped.csv  0.692323    9900  \n",
      "cs-h_movie_0018 23-10-27 16-15-23_cropped.csv  0.732428   11040  \n",
      "ALL                                            0.713467   20940  \n"
     ]
    }
   ],
   "source": [
    "df_file_list = pd.read_csv('../data/file_list_1718.csv')\n",
    "file_list = df_file_list.values.tolist()\n",
    "file_list = np.array(file_list)\n",
    "main(file_list, \"1718\")"
   ]
  },
  {
   "cell_type": "code",
   "execution_count": 9,
   "id": "e965cb7c",
   "metadata": {},
   "outputs": [
    {
     "data": {
      "application/vnd.jupyter.widget-view+json": {
       "model_id": "d0c87af499cb434f85c77937aebfc4cf",
       "version_major": 2,
       "version_minor": 0
      },
      "text/plain": [
       "  0%|          | 0/2 [00:00<?, ?it/s]"
      ]
     },
     "metadata": {},
     "output_type": "display_data"
    },
    {
     "name": "stdout",
     "output_type": "stream",
     "text": [
      "Saved metrics → ../outputs/result_1920.csv\n",
      "                                               precision    recall  f1_score  \\\n",
      "file                                                                           \n",
      "cs-h_movie_0019 23-10-27 16-26-54_cropped.csv   0.889948  0.450735  0.598398   \n",
      "cs-h_movie_0020 23-10-27 16-38-01_cropped.csv   0.988679  0.225862  0.367719   \n",
      "ALL                                             0.900117  0.405108  0.558745   \n",
      "\n",
      "                                               accuracy  frames  \n",
      "file                                                             \n",
      "cs-h_movie_0019 23-10-27 16-26-54_cropped.csv  0.718960    9810  \n",
      "cs-h_movie_0020 23-10-27 16-38-01_cropped.csv  0.614957    2340  \n",
      "ALL                                            0.698930   12150  \n"
     ]
    }
   ],
   "source": [
    "df_file_list = pd.read_csv('../data/file_list_1920.csv')\n",
    "file_list = df_file_list.values.tolist()\n",
    "file_list = np.array(file_list)\n",
    "main(file_list, \"1920\")"
   ]
  }
 ],
 "metadata": {
  "kernelspec": {
   "display_name": "yoru",
   "language": "python",
   "name": "python3"
  },
  "language_info": {
   "codemirror_mode": {
    "name": "ipython",
    "version": 3
   },
   "file_extension": ".py",
   "mimetype": "text/x-python",
   "name": "python",
   "nbconvert_exporter": "python",
   "pygments_lexer": "ipython3",
   "version": "3.10.14"
  }
 },
 "nbformat": 4,
 "nbformat_minor": 5
}
