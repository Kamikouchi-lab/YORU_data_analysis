{
 "cells": [
  {
   "cell_type": "code",
   "execution_count": null,
   "id": "58ee8cf7-8d10-40b6-af94-2b2d87599f15",
   "metadata": {},
   "outputs": [],
   "source": [
    "from pathlib import Path\n",
    "import argparse\n",
    "import numpy as np\n",
    "import pandas as pd\n",
    "from tqdm.auto import tqdm\n",
    "from __future__ import annotations\n",
    "from pathlib import Path\n",
    "import pandas as pd\n",
    "from sklearn.metrics import (\n",
    "    precision_score,\n",
    "    recall_score,\n",
    "    f1_score,\n",
    "    accuracy_score,\n",
    ")\n",
    "from sklearn.metrics import (\n",
    "    precision_score,\n",
    "    recall_score,\n",
    "    f1_score,\n",
    "    accuracy_score,\n",
    ")"
   ]
  },
  {
   "cell_type": "code",
   "execution_count": null,
   "id": "4da143c8",
   "metadata": {},
   "outputs": [],
   "source": [
    "def upsample_to_hz(df: pd.DataFrame, behaviour: str, target_hz: int) -> pd.DataFrame:\n",
    "    \"\"\"Forward-fill 10 Hz ラベル → target_hz.\"\"\"\n",
    "    step = 1 / target_hz\n",
    "    min_t, max_t = df[\"time\"].iloc[0], df[\"time\"].iloc[-1]\n",
    "    timeline = np.arange(min_t, max_t + 1e-9, step)\n",
    "    dense = pd.DataFrame({\"time\": timeline})\n",
    "    dense = pd.merge_asof(\n",
    "        dense, df[[\"time\", behaviour]].sort_values(\"time\"), on=\"time\", direction=\"backward\"\n",
    "    )\n",
    "    dense[\"time\"] = dense[\"time\"].round(3)  # 0.000, 0.033, 0.067 …\n",
    "    return dense.rename(columns={behaviour: \"label\"})"
   ]
  },
  {
   "cell_type": "code",
   "execution_count": null,
   "id": "d875fa07",
   "metadata": {},
   "outputs": [],
   "source": [
    "def load_and_upsample(csv_path: Path, behaviour: str, target_hz: int) -> pd.DataFrame:\n",
    "    df = pd.read_csv(csv_path)\n",
    "    if \"time\" not in df or behaviour not in df:\n",
    "        raise ValueError(f\"{csv_path} には 'time' または '{behaviour}' 列がありません\")\n",
    "    return upsample_to_hz(df, behaviour, target_hz)"
   ]
  },
  {
   "cell_type": "code",
   "execution_count": null,
   "id": "a6b518d4",
   "metadata": {},
   "outputs": [],
   "source": [
    "def calc_metrics(y_true: np.ndarray, y_pred: np.ndarray) -> dict[str, float]:\n",
    "    return {\n",
    "        \"precision\": precision_score(y_true, y_pred, zero_division=0),\n",
    "        \"recall\": recall_score(y_true, y_pred, zero_division=0),\n",
    "        \"f1_score\": f1_score(y_true, y_pred, zero_division=0),\n",
    "        \"accuracy\": accuracy_score(y_true, y_pred),\n",
    "    }"
   ]
  },
  {
   "cell_type": "code",
   "execution_count": null,
   "id": "f7b1f4ac",
   "metadata": {},
   "outputs": [],
   "source": [
    "def main(file_list, file_no):\n",
    "\n",
    "    behavior =\"wing_extension\"\n",
    "    sample_hz = 30\n",
    "    \n",
    "    rows = []\n",
    "    all_true, all_pred = [], []\n",
    "    \n",
    "    for file_line in tqdm(file_list):\n",
    "        asoid_data_path = f\"../data/asoid_data/{file_line[0]}\"\n",
    "        boris_data_path = f\"../data/BORIS_data/{file_line[1]}\"\n",
    "\n",
    "        # アップサンプルしてマージ\n",
    "        gt_df = load_and_upsample(boris_data_path, behavior, sample_hz)\n",
    "        pr_df = load_and_upsample(asoid_data_path, behavior, sample_hz)\n",
    "        merged = gt_df.merge(pr_df, on=\"time\", suffixes=(\"_gt\", \"_pred\"), how=\"inner\")\n",
    "\n",
    "        y_true = merged[\"label_gt\"].astype(int).to_numpy()\n",
    "        y_pred = merged[\"label_pred\"].astype(int).to_numpy()\n",
    "\n",
    "        m = calc_metrics(y_true, y_pred)\n",
    "        m[\"file\"] = Path(boris_data_path).name\n",
    "        m[\"frames\"] = len(merged)\n",
    "        rows.append(m)\n",
    "\n",
    "        all_true.append(y_true)\n",
    "        all_pred.append(y_pred)\n",
    "\n",
    "    if not rows:\n",
    "        raise RuntimeError(\"対応するファイルペアが見つかりません\")\n",
    "\n",
    "    # 全ファイル統合\n",
    "    y_true_all = np.concatenate(all_true)\n",
    "    y_pred_all = np.concatenate(all_pred)\n",
    "    overall = calc_metrics(y_true_all, y_pred_all)\n",
    "    overall.update({\"file\": \"ALL\", \"frames\": len(y_true_all)})\n",
    "    rows.append(overall)\n",
    "\n",
    "    # CSV 出力\n",
    "    df_out = pd.DataFrame(rows).set_index(\"file\")\n",
    "    out_path = f\"../outputs/result_{file_no}.csv\"\n",
    "    df_out.to_csv(out_path, float_format=\"%.6f\")\n",
    "    print(f\"Saved metrics → {out_path}\")\n",
    "    print(df_out)"
   ]
  },
  {
   "cell_type": "code",
   "execution_count": null,
   "id": "15b1309e",
   "metadata": {},
   "outputs": [],
   "source": [
    "df_file_list = pd.read_csv('../data/file_list_1314.csv')\n",
    "file_list = df_file_list.values.tolist()\n",
    "file_list = np.array(file_list)\n",
    "main(file_list, \"1314\")"
   ]
  },
  {
   "cell_type": "code",
   "execution_count": null,
   "id": "f161db0b",
   "metadata": {},
   "outputs": [],
   "source": [
    "df_file_list = pd.read_csv('../data/file_list_1516.csv')\n",
    "file_list = df_file_list.values.tolist()\n",
    "file_list = np.array(file_list)\n",
    "main(file_list, \"1516\")"
   ]
  },
  {
   "cell_type": "code",
   "execution_count": null,
   "id": "fdffaab0-9a2c-4e47-a11b-81aa83bc7cc5",
   "metadata": {},
   "outputs": [],
   "source": [
    "df_file_list = pd.read_csv('../data/file_list_1718.csv')\n",
    "file_list = df_file_list.values.tolist()\n",
    "file_list = np.array(file_list)\n",
    "main(file_list, \"1718\")"
   ]
  },
  {
   "cell_type": "code",
   "execution_count": null,
   "id": "e965cb7c",
   "metadata": {},
   "outputs": [],
   "source": [
    "df_file_list = pd.read_csv('../data/file_list_1920.csv')\n",
    "file_list = df_file_list.values.tolist()\n",
    "file_list = np.array(file_list)\n",
    "main(file_list, \"1920\")"
   ]
  }
 ],
 "metadata": {
  "kernelspec": {
   "display_name": "yoru",
   "language": "python",
   "name": "python3"
  },
  "language_info": {
   "codemirror_mode": {
    "name": "ipython",
    "version": 3
   },
   "file_extension": ".py",
   "mimetype": "text/x-python",
   "name": "python",
   "nbconvert_exporter": "python",
   "pygments_lexer": "ipython3",
   "version": "3.10.14"
  }
 },
 "nbformat": 4,
 "nbformat_minor": 5
}
