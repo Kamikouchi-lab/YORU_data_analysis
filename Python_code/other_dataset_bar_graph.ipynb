{
 "cells": [
  {
   "cell_type": "code",
   "execution_count": null,
   "id": "af78926f",
   "metadata": {},
   "outputs": [],
   "source": [
    "import numpy as np\n",
    "import matplotlib.pyplot as plt\n",
    "import seaborn as sns\n",
    "import pandas as pd\n",
    "import os\n",
    "\n",
    "sns.set_style('ticks', {'grid.linestyle': '--'})\n",
    "sns.set_context(\"notebook\", font_scale=1.125, rc={\"lines.linewidth\": 2.0})\n",
    "plt.rcParams['pdf.fonttype'] = 42"
   ]
  },
  {
   "cell_type": "code",
   "execution_count": null,
   "id": "36084789",
   "metadata": {},
   "outputs": [],
   "source": [
    "def adjust_spines(ax=plt.gca(),spines=['left', 'bottom']):\n",
    "    ax.spines['top'].set_linewidth(0)\n",
    "    # ax.spines['right'</span>].set_linewidth(0)\n",
    "    ax.spines['left'].set_linewidth(1.5)\n",
    "    ax.spines['left'].set_color('k')\n",
    "    ax.spines['bottom'].set_linewidth(1.5)\n",
    "    ax.spines['bottom'].set_color('k')\n",
    "    ax.tick_params(direction='out', length=6, width=1.5, color='k')\n",
    "    for loc, spine in ax.spines.items():\n",
    "        if loc in spines:\n",
    "            spine.set_position(('outward', 2.0)) # outward by 10 points\n",
    "            # spine.set_bounds(True)\n",
    "        else:\n",
    "            spine.set_color('none') # don't draw spine\n",
    "def myax(ax=plt.gca()):\n",
    "    ax.spines['top'].set_visible(False)\n",
    "    ax.spines['right'].set_visible(False)\n",
    "    ax.set_grid(linestyle='dotted', linewidth=1.0), adjust_spines(ax, spines=['left', 'bottom'])\n",
    "plt.close()"
   ]
  },
  {
   "cell_type": "code",
   "execution_count": null,
   "id": "6d595915",
   "metadata": {},
   "outputs": [],
   "source": [
    "datapath = r\"/Users/tankororin/Desktop/YORU_data_analysis/Rev2_table_to_graph/data\"\n",
    "graphpath = r\"/Users/tankororin/Desktop/YORU_data_analysis/Rev2_table_to_graph/graph\""
   ]
  },
  {
   "cell_type": "code",
   "execution_count": null,
   "id": "4e2e1a0d",
   "metadata": {},
   "outputs": [],
   "source": [
    "data = pd.read_excel(datapath+os.sep+'tableS6.xlsx', sheet_name=\"Supplementary_table6\").fillna(method='ffill')\n",
    "dat_tot=data.loc[data[\"video\"]==\"Total\"].copy()\n",
    "dat=data.loc[data[\"video\"]!=\"Total\"]\n"
   ]
  },
  {
   "cell_type": "code",
   "execution_count": null,
   "id": "95df32b8",
   "metadata": {},
   "outputs": [],
   "source": [
    "score=[\"accuracy\", \"precision\", \"recall\", \"f1_score\"]\n",
    "for d in data.Dataset.unique():\n",
    "    print(d, len(data[data.Dataset==d]))\n",
    "    fig, axs = plt.subplots(1, 4, figsize=(12, 5))\n",
    "    for i,s in enumerate(score):\n",
    "        print(i,s)\n",
    "        sns.barplot(data=dat_tot[dat_tot.Dataset==d], x='behavior', y=s, ax=axs[i])\n",
    "        sns.swarmplot(data=dat[dat.Dataset==d], x='behavior', y=s, ax=axs[i], color='k')\n",
    "        adjust_spines(ax=axs[i], spines=['left', 'bottom'])\n",
    "        axs[i].set_xticklabels(axs[i].get_xticklabels(), rotation=90)\n",
    "    plt.tight_layout()\n",
    "    plt.suptitle(\"Table S6, \"+ d, y=1.05, fontsize=16)\n",
    "    plt.savefig(graphpath+os.sep+'TableS6_boring_bo_'+d+'.pdf', bbox_inches='tight')"
   ]
  },
  {
   "cell_type": "code",
   "execution_count": null,
   "id": "3932b95c",
   "metadata": {},
   "outputs": [],
   "source": [
    "dat_tot"
   ]
  },
  {
   "cell_type": "code",
   "execution_count": null,
   "id": "eeb5b5c9",
   "metadata": {},
   "outputs": [],
   "source": [
    "score=[\"accuracy\", \"f1_score\", \"precision\", \"recall\"]\n",
    "for d in dat_tot.Dataset.unique():\n",
    "    print(d, len(dat_tot[dat_tot.Dataset==d]))\n",
    "    fig, axs = plt.subplots(1, 4, figsize=(12, 5))\n",
    "    for i,s in enumerate(score):\n",
    "        print(i,s)\n",
    "        sns.barplot(data=dat_tot[dat_tot.Dataset==d], x='behavior', y=s, ax=axs[i])\n",
    "        adjust_spines(ax=axs[i], spines=['left', 'bottom'])\n",
    "        axs[i].set_xticklabels(axs[i].get_xticklabels(), rotation=90)\n",
    "    plt.tight_layout()\n",
    "    plt.suptitle(\"Table S6 (total   ), \"+ d, y=1.05, fontsize=16)\n",
    "    # plt.savefig(datapath+os.sep+'boring_bo_'+d+'.pdf', bbox_inches='tight')"
   ]
  },
  {
   "cell_type": "code",
   "execution_count": null,
   "id": "2189e773",
   "metadata": {},
   "outputs": [],
   "source": []
  }
 ],
 "metadata": {
  "kernelspec": {
   "display_name": "yoru",
   "language": "python",
   "name": "python3"
  },
  "language_info": {
   "codemirror_mode": {
    "name": "ipython",
    "version": 3
   },
   "file_extension": ".py",
   "mimetype": "text/x-python",
   "name": "python",
   "nbconvert_exporter": "python",
   "pygments_lexer": "ipython3",
   "version": "3.10.14"
  }
 },
 "nbformat": 4,
 "nbformat_minor": 5
}
